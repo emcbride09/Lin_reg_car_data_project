{
 "cells": [
  {
   "cell_type": "code",
   "execution_count": 8,
   "metadata": {},
   "outputs": [
    {
     "name": "stdout",
     "output_type": "stream",
     "text": [
      "Requirement already up-to-date: numpy in c:\\users\\ellio\\anaconda3\\lib\\site-packages (1.19.4)\n",
      "Requirement already up-to-date: pandas in c:\\users\\ellio\\appdata\\roaming\\python\\python37\\site-packages (1.1.4)\n",
      "Requirement already up-to-date: matplotlib in c:\\users\\ellio\\appdata\\roaming\\python\\python37\\site-packages (3.3.3)\n",
      "Requirement already up-to-date: seaborn in c:\\users\\ellio\\appdata\\roaming\\python\\python37\\site-packages (0.11.0)\n",
      "Requirement already up-to-date: dask[complete] in c:\\users\\ellio\\appdata\\roaming\\python\\python37\\site-packages (2.30.0)\n",
      "Requirement already up-to-date: scipy in c:\\users\\ellio\\appdata\\roaming\\python\\python37\\site-packages (1.5.4)\n",
      "Requirement already up-to-date: scikit-learn in c:\\users\\ellio\\appdata\\roaming\\python\\python37\\site-packages (0.23.2)\n",
      "Requirement already up-to-date: xgboost in c:\\users\\ellio\\anaconda3\\lib\\site-packages (1.2.1)\n",
      "Collecting shap==0.34.0\n",
      "  Downloading shap-0.34.0-cp37-cp37m-win_amd64.whl (298 kB)\n",
      "Requirement already satisfied, skipping upgrade: python-dateutil>=2.7.3 in c:\\users\\ellio\\anaconda3\\lib\\site-packages (from pandas) (2.8.0)\n",
      "Requirement already satisfied, skipping upgrade: pytz>=2017.2 in c:\\users\\ellio\\anaconda3\\lib\\site-packages (from pandas) (2019.3)\n",
      "Requirement already satisfied, skipping upgrade: pyparsing!=2.0.4,!=2.1.2,!=2.1.6,>=2.0.3 in c:\\users\\ellio\\anaconda3\\lib\\site-packages (from matplotlib) (2.4.2)\n",
      "Requirement already satisfied, skipping upgrade: pillow>=6.2.0 in c:\\users\\ellio\\anaconda3\\lib\\site-packages (from matplotlib) (6.2.0)\n",
      "Requirement already satisfied, skipping upgrade: cycler>=0.10 in c:\\users\\ellio\\anaconda3\\lib\\site-packages (from matplotlib) (0.10.0)\n",
      "Requirement already satisfied, skipping upgrade: kiwisolver>=1.0.1 in c:\\users\\ellio\\anaconda3\\lib\\site-packages (from matplotlib) (1.1.0)\n",
      "Requirement already satisfied, skipping upgrade: pyyaml in c:\\users\\ellio\\anaconda3\\lib\\site-packages (from dask[complete]) (5.1.2)\n",
      "Requirement already satisfied, skipping upgrade: cloudpickle>=0.2.2; extra == \"complete\" in c:\\users\\ellio\\anaconda3\\lib\\site-packages (from dask[complete]) (1.2.2)\n",
      "Requirement already satisfied, skipping upgrade: fsspec>=0.6.0; extra == \"complete\" in c:\\users\\ellio\\appdata\\roaming\\python\\python37\\site-packages (from dask[complete]) (0.8.4)\n",
      "Requirement already satisfied, skipping upgrade: distributed>=2.0; extra == \"complete\" in c:\\users\\ellio\\anaconda3\\lib\\site-packages (from dask[complete]) (2.5.2)\n",
      "Requirement already satisfied, skipping upgrade: partd>=0.3.10; extra == \"complete\" in c:\\users\\ellio\\anaconda3\\lib\\site-packages (from dask[complete]) (1.0.0)\n",
      "Requirement already satisfied, skipping upgrade: toolz>=0.8.2; extra == \"complete\" in c:\\users\\ellio\\anaconda3\\lib\\site-packages (from dask[complete]) (0.10.0)\n",
      "Requirement already satisfied, skipping upgrade: bokeh!=2.0.0,>=1.0.0; extra == \"complete\" in c:\\users\\ellio\\anaconda3\\lib\\site-packages (from dask[complete]) (1.3.4)\n",
      "Requirement already satisfied, skipping upgrade: joblib>=0.11 in c:\\users\\ellio\\anaconda3\\lib\\site-packages (from scikit-learn) (0.13.2)\n",
      "Requirement already satisfied, skipping upgrade: threadpoolctl>=2.0.0 in c:\\users\\ellio\\appdata\\roaming\\python\\python37\\site-packages (from scikit-learn) (2.1.0)\n",
      "Requirement already satisfied, skipping upgrade: tqdm>4.25.0 in c:\\users\\ellio\\anaconda3\\lib\\site-packages (from shap==0.34.0) (4.36.1)\n",
      "Requirement already satisfied, skipping upgrade: six>=1.5 in c:\\users\\ellio\\anaconda3\\lib\\site-packages (from python-dateutil>=2.7.3->pandas) (1.12.0)\n",
      "Requirement already satisfied, skipping upgrade: setuptools in c:\\users\\ellio\\anaconda3\\lib\\site-packages (from kiwisolver>=1.0.1->matplotlib) (41.4.0)\n",
      "Requirement already satisfied, skipping upgrade: tornado>=5 in c:\\users\\ellio\\anaconda3\\lib\\site-packages (from distributed>=2.0; extra == \"complete\"->dask[complete]) (6.0.3)\n",
      "Requirement already satisfied, skipping upgrade: zict>=0.1.3 in c:\\users\\ellio\\anaconda3\\lib\\site-packages (from distributed>=2.0; extra == \"complete\"->dask[complete]) (1.0.0)\n",
      "Requirement already satisfied, skipping upgrade: msgpack in c:\\users\\ellio\\anaconda3\\lib\\site-packages (from distributed>=2.0; extra == \"complete\"->dask[complete]) (0.6.1)\n",
      "Requirement already satisfied, skipping upgrade: click>=6.6 in c:\\users\\ellio\\anaconda3\\lib\\site-packages (from distributed>=2.0; extra == \"complete\"->dask[complete]) (7.0)\n",
      "Requirement already satisfied, skipping upgrade: psutil>=5.0 in c:\\users\\ellio\\anaconda3\\lib\\site-packages (from distributed>=2.0; extra == \"complete\"->dask[complete]) (5.6.3)\n",
      "Requirement already satisfied, skipping upgrade: tblib in c:\\users\\ellio\\anaconda3\\lib\\site-packages (from distributed>=2.0; extra == \"complete\"->dask[complete]) (1.4.0)\n",
      "Requirement already satisfied, skipping upgrade: sortedcontainers!=2.0.0,!=2.0.1 in c:\\users\\ellio\\anaconda3\\lib\\site-packages (from distributed>=2.0; extra == \"complete\"->dask[complete]) (2.1.0)\n",
      "Requirement already satisfied, skipping upgrade: locket in c:\\users\\ellio\\anaconda3\\lib\\site-packages (from partd>=0.3.10; extra == \"complete\"->dask[complete]) (0.2.0)\n",
      "Requirement already satisfied, skipping upgrade: packaging>=16.8 in c:\\users\\ellio\\anaconda3\\lib\\site-packages (from bokeh!=2.0.0,>=1.0.0; extra == \"complete\"->dask[complete]) (19.2)\n",
      "Requirement already satisfied, skipping upgrade: Jinja2>=2.7 in c:\\users\\ellio\\anaconda3\\lib\\site-packages (from bokeh!=2.0.0,>=1.0.0; extra == \"complete\"->dask[complete]) (2.10.3)\n",
      "Requirement already satisfied, skipping upgrade: heapdict in c:\\users\\ellio\\anaconda3\\lib\\site-packages (from zict>=0.1.3->distributed>=2.0; extra == \"complete\"->dask[complete]) (1.0.1)\n",
      "Requirement already satisfied, skipping upgrade: MarkupSafe>=0.23 in c:\\users\\ellio\\anaconda3\\lib\\site-packages (from Jinja2>=2.7->bokeh!=2.0.0,>=1.0.0; extra == \"complete\"->dask[complete]) (1.1.1)\n",
      "Installing collected packages: shap\n",
      "  Attempting uninstall: shap\n",
      "    Found existing installation: shap 0.37.0\n",
      "    Uninstalling shap-0.37.0:\n",
      "      Successfully uninstalled shap-0.37.0\n",
      "Successfully installed shap-0.34.0\n"
     ]
    }
   ],
   "source": [
    "!pip install --upgrade numpy pandas matplotlib seaborn dask[complete] scipy scikit-learn xgboost --user"
   ]
  },
  {
   "cell_type": "code",
   "execution_count": 12,
   "metadata": {},
   "outputs": [
    {
     "data": {
      "text/plain": [
       "'numpy==1.19.4'"
      ]
     },
     "metadata": {},
     "output_type": "display_data"
    },
    {
     "data": {
      "text/plain": [
       "'pandas==0.25.1'"
      ]
     },
     "metadata": {},
     "output_type": "display_data"
    },
    {
     "data": {
      "text/plain": [
       "'matplotlib==3.1.1'"
      ]
     },
     "metadata": {},
     "output_type": "display_data"
    },
    {
     "data": {
      "text/plain": [
       "'seaborn==0.9.0'"
      ]
     },
     "metadata": {},
     "output_type": "display_data"
    },
    {
     "data": {
      "text/plain": [
       "'dask==2.5.2'"
      ]
     },
     "metadata": {},
     "output_type": "display_data"
    },
    {
     "data": {
      "text/plain": [
       "'scipy==1.3.1'"
      ]
     },
     "metadata": {},
     "output_type": "display_data"
    },
    {
     "data": {
      "text/plain": [
       "'sklearn==0.21.3'"
      ]
     },
     "metadata": {},
     "output_type": "display_data"
    },
    {
     "data": {
      "text/plain": [
       "'xgboost==1.2.1'"
      ]
     },
     "metadata": {},
     "output_type": "display_data"
    }
   ],
   "source": [
    "import numpy as np\n",
    "import pandas as pd\n",
    "import matplotlib as mpl\n",
    "import seaborn as sns\n",
    "import dask\n",
    "import scipy as sp\n",
    "import sklearn as skl\n",
    "import xgboost as xgb\n",
    "# import shap\n",
    "\n",
    "display(\n",
    "    f'numpy=={np.__version__}',\n",
    "    f'pandas=={pd.__version__}',\n",
    "    f'matplotlib=={mpl.__version__}',\n",
    "    f'seaborn=={sns.__version__}',\n",
    "    f'dask=={dask.__version__}',\n",
    "    f'scipy=={sp.__version__}',\n",
    "    f'sklearn=={skl.__version__}',\n",
    "    f'xgboost=={xgb.__version__}',\n",
    "#     f'shap=={shap.__version__}',\n",
    ")"
   ]
  },
  {
   "cell_type": "code",
   "execution_count": 18,
   "metadata": {},
   "outputs": [
    {
     "ename": "ModuleNotFoundError",
     "evalue": "No module named 'shapely'",
     "output_type": "error",
     "traceback": [
      "\u001b[1;31m---------------------------------------------------------------------------\u001b[0m",
      "\u001b[1;31mModuleNotFoundError\u001b[0m                       Traceback (most recent call last)",
      "\u001b[1;32m<ipython-input-18-06fe9478d3da>\u001b[0m in \u001b[0;36m<module>\u001b[1;34m\u001b[0m\n\u001b[1;32m----> 1\u001b[1;33m \u001b[1;32mimport\u001b[0m \u001b[0mshapely\u001b[0m\u001b[1;33m\u001b[0m\u001b[1;33m\u001b[0m\u001b[0m\n\u001b[0m",
      "\u001b[1;31mModuleNotFoundError\u001b[0m: No module named 'shapely'"
     ]
    }
   ],
   "source": [
    "import shapely"
   ]
  },
  {
   "cell_type": "code",
   "execution_count": null,
   "metadata": {},
   "outputs": [],
   "source": []
  }
 ],
 "metadata": {
  "kernelspec": {
   "display_name": "Python 3",
   "language": "python",
   "name": "python3"
  },
  "language_info": {
   "codemirror_mode": {
    "name": "ipython",
    "version": 3
   },
   "file_extension": ".py",
   "mimetype": "text/x-python",
   "name": "python",
   "nbconvert_exporter": "python",
   "pygments_lexer": "ipython3",
   "version": "3.7.4"
  }
 },
 "nbformat": 4,
 "nbformat_minor": 4
}
