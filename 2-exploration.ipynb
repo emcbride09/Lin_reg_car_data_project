{
 "cells": [
  {
   "cell_type": "markdown",
   "metadata": {},
   "source": [
    "### Data Exploration and cleaning\n",
    "\n",
    "broken into subparts, 1. People dataset and 2. Cars dataset"
   ]
  },
  {
   "cell_type": "code",
   "execution_count": null,
   "metadata": {},
   "outputs": [],
   "source": [
    "import os\n",
    "import sys\n",
    "import glob\n",
    "import numpy as np\n",
    "import pandas as pd\n",
    "import matplotlib.pyplot as plt\n",
    "import seaborn as sns\n",
    "from pandas_profiling import ProfileReport\n",
    "from tqdm import tqdm"
   ]
  },
  {
   "cell_type": "markdown",
   "metadata": {},
   "source": [
    "Change seaborn settings for nicer plots"
   ]
  },
  {
   "cell_type": "code",
   "execution_count": null,
   "metadata": {},
   "outputs": [],
   "source": [
    "sns.set(\n",
    "    style='whitegrid', palette='Set2',\n",
    "    rc={\n",
    "        \"figure.dpi\": 100,\n",
    "        \"axes.spines.top\": False,\n",
    "        \"axes.spines.right\": False,\n",
    "    },\n",
    ")"
   ]
  },
  {
   "cell_type": "code",
   "execution_count": null,
   "metadata": {},
   "outputs": [],
   "source": [
    "def show_memory_usage():\n",
    "    size = {var: sys.getsizeof(obj) for var, obj in list(globals().items())}\n",
    "    size = pd.DataFrame({\"label\": list(size.keys()), \"size\": list(size.values())})\n",
    "    size[\"sizeMB\"] = size['size']/(1024**2)\n",
    "    return size.sort_values(\"size\", ascending=False).reset_index(drop=True)[[\"label\", \"sizeMB\"]]\n",
    "show_memory_usage().head()"
   ]
  },
  {
   "cell_type": "markdown",
   "metadata": {},
   "source": [
    "### People Exploration"
   ]
  },
  {
   "cell_type": "code",
   "execution_count": null,
   "metadata": {},
   "outputs": [],
   "source": [
    "data = pd.read_parquet(\"1-people.parquet\", index = 0)\n",
    "\n",
    "tqdm(ProfileReport(data).to_file(\"people_report_historical.html\"))"
   ]
  },
  {
   "cell_type": "markdown",
   "metadata": {},
   "source": [
    "Check to see if the id is a unique identifier."
   ]
  },
  {
   "cell_type": "code",
   "execution_count": null,
   "metadata": {},
   "outputs": [],
   "source": [
    "len(data) == len(data['id'].unique()) # returns true or False. Need to inspect duplicates"
   ]
  },
  {
   "cell_type": "code",
   "execution_count": null,
   "metadata": {},
   "outputs": [],
   "source": [
    "# Select duplicate rows except first occurrence based on all columns\n",
    "duplicateRowsDF = data[data.duplicated(keep=False)]"
   ]
  },
  {
   "cell_type": "markdown",
   "metadata": {},
   "source": [
    "it seems there is one duplicated row. Need to remove in order to model properly"
   ]
  },
  {
   "cell_type": "code",
   "execution_count": null,
   "metadata": {},
   "outputs": [],
   "source": [
    "data.drop_duplicates(keep='first', inplace=True) # removes duplicates and replaces original dataframe\n",
    "data.shape # lost one member, we are ok. "
   ]
  },
  {
   "cell_type": "code",
   "execution_count": null,
   "metadata": {},
   "outputs": [],
   "source": [
    "data.dtypes"
   ]
  },
  {
   "cell_type": "markdown",
   "metadata": {},
   "source": [
    "### Plots"
   ]
  },
  {
   "cell_type": "code",
   "execution_count": null,
   "metadata": {},
   "outputs": [],
   "source": [
    "data.hist(sharex = False, sharey = False, xlabelsize = 1, ylabelsize =1)\n",
    "\n",
    "# density\n",
    "data.plot(kind='density', subplots=True, layout=(4,4), sharex=False, legend=False,\n",
    "fontsize=1)\n"
   ]
  },
  {
   "cell_type": "code",
   "execution_count": null,
   "metadata": {},
   "outputs": [],
   "source": [
    "# box and whisker plots\n",
    "data.plot(kind='box', subplots=True, layout=(4,4), sharex=False, sharey=False,\n",
    "fontsize=12)\n",
    "plt.show()"
   ]
  },
  {
   "cell_type": "code",
   "execution_count": null,
   "metadata": {},
   "outputs": [],
   "source": []
  },
  {
   "cell_type": "code",
   "execution_count": null,
   "metadata": {},
   "outputs": [],
   "source": [
    "freq = data.groupby(\"location\")['id'].count()\n",
    "freq.plot(kind=\"bar\", legend=None)\n",
    "plt.xlabel(\"Location\")\n",
    "plt.ylabel(\"Freq)\")\n",
    "plt.title(\"Urban Rural Split\")\n",
    "\n",
    "display(freq)"
   ]
  },
  {
   "cell_type": "code",
   "execution_count": null,
   "metadata": {},
   "outputs": [],
   "source": [
    "freq = data.groupby(\"sex\")['id'].count()\n",
    "freq.plot(kind=\"bar\", legend=None)\n",
    "plt.xlabel(\"Gender\")\n",
    "plt.ylabel(\"Freq)\")\n",
    "plt.title(\"gender split\")\n",
    "\n",
    "display(freq)"
   ]
  },
  {
   "cell_type": "code",
   "execution_count": null,
   "metadata": {},
   "outputs": [],
   "source": [
    "sal = data['salary']\n",
    "sns.displot(sal).set(title ='Salary distribution')\n"
   ]
  },
  {
   "cell_type": "markdown",
   "metadata": {},
   "source": [
    "Are age and income correlated to highly to include on a linear regression"
   ]
  },
  {
   "cell_type": "code",
   "execution_count": null,
   "metadata": {},
   "outputs": [],
   "source": [
    "# Show the results of a linear regression within each dataset\n",
    "sns.lmplot(x=\"salary\", y=\"age\", data=data, palette=\"muted\").set(title = 'Correlation of Age and Salary')\n",
    "\n"
   ]
  },
  {
   "cell_type": "markdown",
   "metadata": {},
   "source": [
    "Nope - that is odd but our data is fake so ¯\\_(ツ)_/¯"
   ]
  },
  {
   "cell_type": "code",
   "execution_count": null,
   "metadata": {},
   "outputs": [],
   "source": []
  },
  {
   "cell_type": "markdown",
   "metadata": {},
   "source": [
    "## Car data"
   ]
  },
  {
   "cell_type": "code",
   "execution_count": 134,
   "metadata": {},
   "outputs": [
    {
     "name": "stdout",
     "output_type": "stream",
     "text": [
      "<class 'pandas.core.frame.DataFrame'>\n",
      "RangeIndex: 428 entries, 0 to 427\n",
      "Data columns (total 20 columns):\n",
      "vehicle_name                      428 non-null object\n",
      "smallsporty_compactlarge_sedan    428 non-null int64\n",
      "sports_car                        428 non-null int64\n",
      "suv                               428 non-null int64\n",
      "wagon                             428 non-null int64\n",
      "minivan                           428 non-null int64\n",
      "pickup                            428 non-null int64\n",
      "awd                               428 non-null int64\n",
      "rwd                               428 non-null int64\n",
      "retail_price                      428 non-null int64\n",
      "dealer_cost                       428 non-null int64\n",
      "engine_size_(l)                   428 non-null float64\n",
      "cyl                               428 non-null int64\n",
      "hp                                428 non-null int64\n",
      "city_mpg                          413 non-null float64\n",
      "hwy_mpg                           413 non-null float64\n",
      "weight                            426 non-null float64\n",
      "wheel_base                        426 non-null float64\n",
      "len                               402 non-null float64\n",
      "width                             400 non-null float64\n",
      "dtypes: float64(7), int64(12), object(1)\n",
      "memory usage: 67.0+ KB\n"
     ]
    }
   ],
   "source": [
    "data = pd.read_parquet(\"1-cars.parquet\", index = 0)\n",
    "\n",
    "car_dict = pd.read_csv('2-cars.data.dict.csv')\n",
    "\n",
    "\n",
    "# ProfileReport(data).to_file(\"cars_report_historical.html\")\n",
    "\n",
    "data.info() # this would be the easier way to create the data_dict"
   ]
  },
  {
   "cell_type": "markdown",
   "metadata": {},
   "source": [
    "## missingness"
   ]
  },
  {
   "cell_type": "code",
   "execution_count": null,
   "metadata": {},
   "outputs": [],
   "source": [
    "data.isnull().any().any()"
   ]
  },
  {
   "cell_type": "code",
   "execution_count": null,
   "metadata": {},
   "outputs": [],
   "source": [
    "sns.heatmap(data.isnull())"
   ]
  },
  {
   "cell_type": "markdown",
   "metadata": {},
   "source": [
    "inspection of missing data rows"
   ]
  },
  {
   "cell_type": "code",
   "execution_count": null,
   "metadata": {},
   "outputs": [],
   "source": [
    "null_data = data[data.isnull().any(axis=1)]\n",
    "null_data"
   ]
  },
  {
   "cell_type": "markdown",
   "metadata": {},
   "source": [
    "in order to see the and count the best aparatus for the encoded columns - melt them then analyze then keep or ammend"
   ]
  },
  {
   "cell_type": "code",
   "execution_count": 120,
   "metadata": {},
   "outputs": [],
   "source": [
    "data.rename(columns={\"smallsporty_compactlarge_sedan\": \"sedan\"}, inplace = True)"
   ]
  },
  {
   "cell_type": "code",
   "execution_count": 123,
   "metadata": {},
   "outputs": [],
   "source": [
    "data.to_csv('2-cars.data.dict.csv')"
   ]
  },
  {
   "cell_type": "code",
   "execution_count": 296,
   "metadata": {},
   "outputs": [],
   "source": [
    "def extract_subtable(df, columns, label):\n",
    "    \"\"\"Extract a sub-table which have columns labelled with numerical indexes.\n",
    "    \n",
    "    Parameters\n",
    "    ----------\n",
    "    df : pandas dataframe\n",
    "        Input dataframe holding all the columns needed to extract.\n",
    "    columns : list of str\n",
    "        List of columns labels to read from.\n",
    "    label : str, optional\n",
    "        Label for the sub-table index.\n",
    "        \n",
    "    Returns\n",
    "    -------\n",
    "    subdf : pandas dataframe\n",
    "        Output dataframe and checks the length against the original data for merging\n",
    "        if there is a discrepency investigate and impute\n",
    "    \"\"\"\n",
    "    subdf = data[columns].copy(deep=True) # copy and keep\n",
    "    subdf = subdf.stack() # stack\n",
    "    subdf = subdf.apply(pd.to_numeric).to_frame(name = 'values')\n",
    "    \n",
    "    good = subdf['values'] ==1\n",
    "    subdf = subdf[good]\n",
    "\n",
    "    subdf.reset_index(drop = False, inplace = True)\n",
    "    subdf.drop(columns = ['level_0', 'values'], inplace = True)\n",
    "    subdf.rename(columns={\"level_1\": label}, inplace = True)\n",
    "    \n",
    "    if len(subdf) == len(data):\n",
    "        print('good to merge')\n",
    "    else: \n",
    "        print('length discrepency')\n",
    "    \n",
    "    return subdf # you have the stacked subtable"
   ]
  },
  {
   "cell_type": "code",
   "execution_count": 297,
   "metadata": {},
   "outputs": [
    {
     "name": "stdout",
     "output_type": "stream",
     "text": [
      "length discrepency\n"
     ]
    },
    {
     "data": {
      "text/plain": [
       "202"
      ]
     },
     "execution_count": 297,
     "metadata": {},
     "output_type": "execute_result"
    }
   ],
   "source": [
    "columns = car_dict.loc[car_dict.eval(\"category == 'drivetrain'\"), \"variable\"]  #extract all of the drivetrain types from the data dictionary & keep the variable only that becomes columns\n",
    "data_drivetrain = extract_subtable(data, columns, label = \"drivetrain\")\n",
    "len(data_drivetrain)"
   ]
  },
  {
   "cell_type": "code",
   "execution_count": 298,
   "metadata": {},
   "outputs": [
    {
     "data": {
      "text/plain": [
       "<AxesSubplot:xlabel='drivetrain', ylabel='counts'>"
      ]
     },
     "execution_count": 298,
     "metadata": {},
     "output_type": "execute_result"
    },
    {
     "data": {
      "image/png": "[encoded data removed]",
      "text/plain": [
       "<Figure size 600x400 with 1 Axes>"
      ]
     },
     "metadata": {},
     "output_type": "display_data"
    }
   ],
   "source": [
    "freq = data_drivetrain.groupby(['drivetrain']).size().reset_index(name='counts')\n",
    "sns.barplot(x=\"drivetrain\", y=\"counts\", data=freq)"
   ]
  }
 ],
 "metadata": {
  "kernelspec": {
   "display_name": "Python 3",
   "language": "python",
   "name": "python3"
  },
  "language_info": {
   "codemirror_mode": {
    "name": "ipython",
    "version": 3
   },
   "file_extension": ".py",
   "mimetype": "text/x-python",
   "name": "python",
   "nbconvert_exporter": "python",
   "pygments_lexer": "ipython3",
   "version": "3.7.4"
  }
 },
 "nbformat": 4,
 "nbformat_minor": 4
}
