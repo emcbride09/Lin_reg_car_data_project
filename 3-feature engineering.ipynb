{
 "cells": [
  {
   "cell_type": "markdown",
   "metadata": {},
   "source": [
    "To Pickup tomorrow 7/12:\n",
    "1. set the datasets to be picked up here, created from 2\n",
    "2. join the datasets and do advanced visualisation \n",
    "3. hopefully model"
   ]
  },
  {
   "cell_type": "code",
   "execution_count": 228,
   "metadata": {},
   "outputs": [],
   "source": [
    "def collapse_wide_cols(data, columns, label):\n",
    "    \n",
    "    \n",
    "    \"\"\"Function checks that all one-hot encoded columns have a value, and labels it as a new variable.\n",
    "        \n",
    "    Parameters\n",
    "    ----------\n",
    "    df : pandas dataframe holding the columns wishing to shorten.\n",
    "    columns : list of str\n",
    "        List of columns labels to read from.\n",
    "    label : str,\n",
    "        Label for the collapsed new variable\n",
    "        \n",
    "    Returns\n",
    "    -------\n",
    "    If successful: a dataframe which has dropped one hot encoded variables and prints success\n",
    "    if not successful: prints an error and the number of values that are missing a one hot encoded variable for review\n",
    "    \n",
    "    \"\"\"\n",
    "    \n",
    "    subdf = data[columns].copy(deep=True)\n",
    "        \n",
    "    sum_value = subdf.values.sum() # adds all of the values in the column, there should only be a single 1 value for each variable category.\n",
    "    \n",
    "    if sum_value == len(data):    # if this number is equal to the length of the original dataframe it is good and merges\n",
    "        def collapse(row):\n",
    "            return(row.index[row.apply(lambda x: x==1)][0])\n",
    "        \n",
    "        subdf[label] = subdf.apply(lambda row: collapse(row), axis=1)\n",
    "        \n",
    "        subdf.drop(columns = columns, inplace = True)\n",
    "        \n",
    "        data = pd.concat([data, subdf.reset_index(drop=True)], axis = 1)\n",
    "        print('correct data - merging')\n",
    "        \n",
    "        return data\n",
    "    \n",
    "    else: # if this number is not equal then it finds the bad rows and prints them out.\n",
    "        bad_rows = data.loc[(data[columns].sum(axis=1) != 1), ]\n",
    "        print('rows with missing values are...')\n",
    "        display(bad_rows)\n",
    "            "
   ]
  },
  {
   "cell_type": "markdown",
   "metadata": {},
   "source": [
    "## Drivetrain feature\n",
    "\n",
    "Need to collapse the drivetrain into long format"
   ]
  },
  {
   "cell_type": "code",
   "execution_count": 1,
   "metadata": {},
   "outputs": [
    {
     "ename": "NameError",
     "evalue": "name 'car_dict' is not defined",
     "output_type": "error",
     "traceback": [
      "\u001b[1;31m---------------------------------------------------------------------------\u001b[0m",
      "\u001b[1;31mNameError\u001b[0m                                 Traceback (most recent call last)",
      "\u001b[1;32m<ipython-input-1-080b0d1fb838>\u001b[0m in \u001b[0;36m<module>\u001b[1;34m\u001b[0m\n\u001b[1;32m----> 1\u001b[1;33m \u001b[0mcolumns\u001b[0m \u001b[1;33m=\u001b[0m \u001b[0mcar_dict\u001b[0m\u001b[1;33m.\u001b[0m\u001b[0mloc\u001b[0m\u001b[1;33m[\u001b[0m\u001b[0mcar_dict\u001b[0m\u001b[1;33m.\u001b[0m\u001b[0meval\u001b[0m\u001b[1;33m(\u001b[0m\u001b[1;34m\"category == 'drivetrain'\"\u001b[0m\u001b[1;33m)\u001b[0m\u001b[1;33m,\u001b[0m \u001b[1;34m\"variable\"\u001b[0m\u001b[1;33m]\u001b[0m  \u001b[1;31m#extract all of the drivetrain types from the data dictionary & keep the variable only that becomes columns\u001b[0m\u001b[1;33m\u001b[0m\u001b[1;33m\u001b[0m\u001b[0m\n\u001b[0m\u001b[0;32m      2\u001b[0m \u001b[0mdata_drivetrain\u001b[0m \u001b[1;33m=\u001b[0m \u001b[0mextract_subtable\u001b[0m\u001b[1;33m(\u001b[0m\u001b[0mdata\u001b[0m\u001b[1;33m,\u001b[0m \u001b[0mcolumns\u001b[0m\u001b[1;33m,\u001b[0m \u001b[0mlabel\u001b[0m \u001b[1;33m=\u001b[0m \u001b[1;34m\"drivetrain\"\u001b[0m\u001b[1;33m)\u001b[0m\u001b[1;33m\u001b[0m\u001b[1;33m\u001b[0m\u001b[0m\n",
      "\u001b[1;31mNameError\u001b[0m: name 'car_dict' is not defined"
     ]
    }
   ],
   "source": [
    "columns = car_dict.loc[car_dict.eval(\"category == 'drivetrain'\"), \"variable\"]  #extract all of the drivetrain types from the data dictionary & keep the variable only that becomes columns\n",
    "data_drivetrain = extract_subtable(data, columns, label = \"drivetrain\")"
   ]
  },
  {
   "cell_type": "code",
   "execution_count": 159,
   "metadata": {},
   "outputs": [
    {
     "name": "stdout",
     "output_type": "stream",
     "text": [
      "226 vehicles with no drivetrain info\n"
     ]
    }
   ],
   "source": [
    "drivetrain = data[(data['awd'] == 0) & (data['rwd'] == 0)]\n",
    "print(str(len(drivetrain)) + ' vehicles with no drivetrain info')"
   ]
  },
  {
   "cell_type": "code",
   "execution_count": 177,
   "metadata": {},
   "outputs": [],
   "source": [
    "def fwdvalue(data):\n",
    "    if data['awd'] == 0 | data['rwd'] == 0:\n",
    "        val = 1\n",
    "    else:\n",
    "        val = 0\n",
    "    return val"
   ]
  },
  {
   "cell_type": "code",
   "execution_count": 178,
   "metadata": {},
   "outputs": [],
   "source": [
    "data['fwd'] = data.apply(fwdvalue, axis=1)\n",
    "\n",
    "checker = data[['awd', 'rwd', 'fwd']]"
   ]
  },
  {
   "cell_type": "code",
   "execution_count": 230,
   "metadata": {},
   "outputs": [
    {
     "data": {
      "text/plain": [
       "<AxesSubplot:xlabel='drivetrain', ylabel='counts'>"
      ]
     },
     "execution_count": 230,
     "metadata": {},
     "output_type": "execute_result"
    },
    {
     "data": {
      "image/png": "[encoded data removed]",
      "text/plain": [
       "<Figure size 600x400 with 1 Axes>"
      ]
     },
     "metadata": {},
     "output_type": "display_data"
    }
   ],
   "source": [
    "freq = data_drivetrain.groupby(['drivetrain']).size().reset_index(name='counts')\n",
    "sns.barplot(x=\"drivetrain\", y=\"counts\", data=freq)"
   ]
  },
  {
   "cell_type": "markdown",
   "metadata": {},
   "source": [
    "## Car Type"
   ]
  },
  {
   "cell_type": "code",
   "execution_count": null,
   "metadata": {},
   "outputs": [],
   "source": [
    "columns = car_dict.loc[car_dict.eval(\"category == 'car_type'\"), \"variable\"]  #extract all of the drivetrain types from the data dictionary & keep the variable only that becomes columns\n",
    "data_cartype = extract_subtable(data, columns, label = \"Car Type\")\n",
    "data_cartype"
   ]
  }
 ],
 "metadata": {
  "kernelspec": {
   "display_name": "Python 3",
   "language": "python",
   "name": "python3"
  },
  "language_info": {
   "codemirror_mode": {
    "name": "ipython",
    "version": 3
   },
   "file_extension": ".py",
   "mimetype": "text/x-python",
   "name": "python",
   "nbconvert_exporter": "python",
   "pygments_lexer": "ipython3",
   "version": "3.7.4"
  }
 },
 "nbformat": 4,
 "nbformat_minor": 4
}
