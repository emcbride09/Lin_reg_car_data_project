{
 "cells": [
  {
   "cell_type": "markdown",
   "metadata": {},
   "source": [
    "### Data Exploration and cleaning"
   ]
  },
  {
   "cell_type": "code",
   "execution_count": 233,
   "metadata": {},
   "outputs": [],
   "source": [
    "import os\n",
    "import sys\n",
    "import glob\n",
    "import numpy as np\n",
    "import pandas as pd\n",
    "import matplotlib.pyplot as plt\n",
    "import seaborn as sns\n",
    "from pandas_profiling import ProfileReport\n",
    "from tqdm import tqdm"
   ]
  },
  {
   "cell_type": "markdown",
   "metadata": {},
   "source": [
    "### Change seaborn settings for nicer plots"
   ]
  },
  {
   "cell_type": "code",
   "execution_count": 234,
   "metadata": {},
   "outputs": [],
   "source": [
    "sns.set(\n",
    "    style='whitegrid', palette='Set2',\n",
    "    rc={\n",
    "        \"figure.dpi\": 100,\n",
    "        \"axes.spines.top\": False,\n",
    "        \"axes.spines.right\": False,\n",
    "    },\n",
    ")"
   ]
  },
  {
   "cell_type": "markdown",
   "metadata": {},
   "source": [
    "### Utility Functions"
   ]
  },
  {
   "cell_type": "code",
   "execution_count": 235,
   "metadata": {},
   "outputs": [],
   "source": [
    "def show_memory_usage():\n",
    "    size = {var: sys.getsizeof(obj) for var, obj in list(globals().items())}\n",
    "    size = pd.DataFrame({\"label\": list(size.keys()), \"size\": list(size.values())})\n",
    "    size[\"sizeMB\"] = size['size']/(1024**2)\n",
    "    return size.sort_values(\"size\", ascending=False).reset_index(drop=True)[[\"label\", \"sizeMB\"]]\n",
    "    print(show_memory_usage().head())\n",
    "\n",
    "\n",
    "def create_data_dict(dataframe, csv_name):\n",
    "    \n",
    "    \"\"\"Extracts and prints a data dictionary to help with extracting and cleaning, needs manual \n",
    "    additions for variable descriptions\n",
    "    \n",
    "    Parameters\n",
    "    ----------\n",
    "    Input: dataframe: a dataframe for which you would like a dictionary\n",
    "           csv_name: a 'string' which will become part of your csv file name\n",
    "    \n",
    "    Output: a dataframe with the variable names and data types. \n",
    "    \n",
    "    Will need to manually enter in addition: data categories, variable descriptions, include (y/n)? and validations\"\"\"\n",
    "\n",
    "    data_dict_cars = pd.DataFrame({\n",
    "        \"variable\": list(data.columns),\n",
    "        \"data_type\": data.dtypes,\n",
    "    })\n",
    "    \n",
    "    data_dict_cars.to_csv(str('2-' + csv_name + 'data_dict.csv'))\n",
    "    \n",
    "    return data_dict_cars "
   ]
  },
  {
   "cell_type": "code",
   "execution_count": 229,
   "metadata": {},
   "outputs": [
    {
     "name": "stdout",
     "output_type": "stream",
     "text": [
      "rows with missing values are...\n"
     ]
    },
    {
     "data": {
      "text/html": [
       "<div>\n",
       "<style scoped>\n",
       "    .dataframe tbody tr th:only-of-type {\n",
       "        vertical-align: middle;\n",
       "    }\n",
       "\n",
       "    .dataframe tbody tr th {\n",
       "        vertical-align: top;\n",
       "    }\n",
       "\n",
       "    .dataframe thead th {\n",
       "        text-align: right;\n",
       "    }\n",
       "</style>\n",
       "<table border=\"1\" class=\"dataframe\">\n",
       "  <thead>\n",
       "    <tr style=\"text-align: right;\">\n",
       "      <th></th>\n",
       "      <th>vehicle_name</th>\n",
       "      <th>sedan</th>\n",
       "      <th>sports_car</th>\n",
       "      <th>suv</th>\n",
       "      <th>wagon</th>\n",
       "      <th>minivan</th>\n",
       "      <th>pickup</th>\n",
       "      <th>awd</th>\n",
       "      <th>rwd</th>\n",
       "      <th>retail_price</th>\n",
       "      <th>...</th>\n",
       "      <th>engine_size_(l)</th>\n",
       "      <th>cyl</th>\n",
       "      <th>hp</th>\n",
       "      <th>city_mpg</th>\n",
       "      <th>hwy_mpg</th>\n",
       "      <th>weight</th>\n",
       "      <th>wheel_base</th>\n",
       "      <th>len</th>\n",
       "      <th>width</th>\n",
       "      <th>fwd</th>\n",
       "    </tr>\n",
       "  </thead>\n",
       "  <tbody>\n",
       "    <tr>\n",
       "      <th>22</th>\n",
       "      <td>Audi S4 Quattro 4dr</td>\n",
       "      <td>0</td>\n",
       "      <td>0</td>\n",
       "      <td>0</td>\n",
       "      <td>0</td>\n",
       "      <td>0</td>\n",
       "      <td>0</td>\n",
       "      <td>1</td>\n",
       "      <td>0</td>\n",
       "      <td>48040</td>\n",
       "      <td>...</td>\n",
       "      <td>4.2</td>\n",
       "      <td>8</td>\n",
       "      <td>340</td>\n",
       "      <td>14.0</td>\n",
       "      <td>20.0</td>\n",
       "      <td>3825.0</td>\n",
       "      <td>104.0</td>\n",
       "      <td>179.0</td>\n",
       "      <td>70.0</td>\n",
       "      <td>0</td>\n",
       "    </tr>\n",
       "  </tbody>\n",
       "</table>\n",
       "<p>1 rows × 21 columns</p>\n",
       "</div>"
      ],
      "text/plain": [
       "           vehicle_name  sedan  sports_car  suv  wagon  minivan  pickup  awd  \\\n",
       "22  Audi S4 Quattro 4dr      0           0    0      0        0       0    1   \n",
       "\n",
       "    rwd  retail_price  ...  engine_size_(l)  cyl   hp  city_mpg  hwy_mpg  \\\n",
       "22    0         48040  ...              4.2    8  340      14.0     20.0   \n",
       "\n",
       "    weight  wheel_base    len  width  fwd  \n",
       "22  3825.0       104.0  179.0   70.0    0  \n",
       "\n",
       "[1 rows x 21 columns]"
      ]
     },
     "metadata": {},
     "output_type": "display_data"
    }
   ],
   "source": [
    "columns = car_dict.loc[car_dict.eval(\"category == 'car_type'\"), \"variable\"]\n",
    "\n",
    "data_cartype = collapse_wide_cols(data, columns, label = \"car_type\")"
   ]
  },
  {
   "cell_type": "markdown",
   "metadata": {},
   "source": [
    "### People Exploration"
   ]
  },
  {
   "cell_type": "code",
   "execution_count": 4,
   "metadata": {},
   "outputs": [
    {
     "data": {
      "application/vnd.jupyter.widget-view+json": {
       "model_id": "a7b55880b5744cf59648cb0242f9530e",
       "version_major": 2,
       "version_minor": 0
      },
      "text/plain": [
       "HBox(children=(HTML(value='Summarize dataset'), FloatProgress(value=0.0, max=22.0), HTML(value='')))"
      ]
     },
     "metadata": {},
     "output_type": "display_data"
    },
    {
     "name": "stdout",
     "output_type": "stream",
     "text": [
      "\n"
     ]
    },
    {
     "data": {
      "application/vnd.jupyter.widget-view+json": {
       "model_id": "a1fdb83b4c3443bcabb35ac9705075c0",
       "version_major": 2,
       "version_minor": 0
      },
      "text/plain": [
       "HBox(children=(HTML(value='Generate report structure'), FloatProgress(value=0.0, max=1.0), HTML(value='')))"
      ]
     },
     "metadata": {},
     "output_type": "display_data"
    },
    {
     "name": "stdout",
     "output_type": "stream",
     "text": [
      "\n"
     ]
    },
    {
     "data": {
      "application/vnd.jupyter.widget-view+json": {
       "model_id": "5adedc7d739b43abb13707e6cd0fd20c",
       "version_major": 2,
       "version_minor": 0
      },
      "text/plain": [
       "HBox(children=(HTML(value='Render HTML'), FloatProgress(value=0.0, max=1.0), HTML(value='')))"
      ]
     },
     "metadata": {},
     "output_type": "display_data"
    },
    {
     "name": "stdout",
     "output_type": "stream",
     "text": [
      "\n"
     ]
    },
    {
     "data": {
      "application/vnd.jupyter.widget-view+json": {
       "model_id": "53d45e7fd5a34a7b8b637a99f611ffcd",
       "version_major": 2,
       "version_minor": 0
      },
      "text/plain": [
       "HBox(children=(HTML(value='Export report to file'), FloatProgress(value=0.0, max=1.0), HTML(value='')))"
      ]
     },
     "metadata": {},
     "output_type": "display_data"
    },
    {
     "name": "stderr",
     "output_type": "stream",
     "text": [
      "0it [00:00, ?it/s]"
     ]
    },
    {
     "name": "stdout",
     "output_type": "stream",
     "text": [
      "\n"
     ]
    },
    {
     "data": {
      "text/plain": [
       "0it [00:00, ?it/s]"
      ]
     },
     "execution_count": 4,
     "metadata": {},
     "output_type": "execute_result"
    }
   ],
   "source": [
    "data = pd.read_parquet(\"1-people.parquet\", index = 0)\n",
    "\n",
    "tqdm(ProfileReport(data).to_file(\"people_report_historical.html\"))"
   ]
  },
  {
   "cell_type": "markdown",
   "metadata": {},
   "source": [
    "Check to see if the id is a unique identifier."
   ]
  },
  {
   "cell_type": "code",
   "execution_count": 5,
   "metadata": {},
   "outputs": [
    {
     "data": {
      "text/plain": [
       "False"
      ]
     },
     "execution_count": 5,
     "metadata": {},
     "output_type": "execute_result"
    }
   ],
   "source": [
    "len(data) == len(data['id'].unique()) # returns true or False. Need to inspect duplicates"
   ]
  },
  {
   "cell_type": "code",
   "execution_count": 6,
   "metadata": {},
   "outputs": [],
   "source": [
    "# Select duplicate rows except first occurrence based on all columns\n",
    "duplicateRowsDF = data[data.duplicated(keep=False)]"
   ]
  },
  {
   "cell_type": "markdown",
   "metadata": {},
   "source": [
    "it seems there is one duplicated row. Need to remove in order to model properly"
   ]
  },
  {
   "cell_type": "code",
   "execution_count": 7,
   "metadata": {},
   "outputs": [
    {
     "data": {
      "text/plain": [
       "(99, 8)"
      ]
     },
     "execution_count": 7,
     "metadata": {},
     "output_type": "execute_result"
    }
   ],
   "source": [
    "data.drop_duplicates(keep='first', inplace=True) # removes duplicates and replaces original dataframe\n",
    "data.shape # lost one member, we are ok. "
   ]
  },
  {
   "cell_type": "code",
   "execution_count": 8,
   "metadata": {},
   "outputs": [
    {
     "data": {
      "text/plain": [
       "id              int64\n",
       "age             int64\n",
       "salary          int64\n",
       "height          int64\n",
       "family_size     int64\n",
       "location       object\n",
       "sex            object\n",
       "car            object\n",
       "dtype: object"
      ]
     },
     "execution_count": 8,
     "metadata": {},
     "output_type": "execute_result"
    }
   ],
   "source": [
    "data.dtypes"
   ]
  },
  {
   "cell_type": "markdown",
   "metadata": {},
   "source": [
    "### Plots"
   ]
  },
  {
   "cell_type": "code",
   "execution_count": null,
   "metadata": {},
   "outputs": [],
   "source": [
    "data.hist(sharex = False, sharey = False, xlabelsize = 1, ylabelsize =1)\n",
    "\n",
    "# density\n",
    "data.plot(kind='density', subplots=True, layout=(4,4), sharex=False, legend=False,\n",
    "fontsize=1)\n"
   ]
  },
  {
   "cell_type": "code",
   "execution_count": null,
   "metadata": {},
   "outputs": [],
   "source": [
    "# box and whisker plots\n",
    "data.plot(kind='box', subplots=True, layout=(4,4), sharex=False, sharey=False,\n",
    "fontsize=12)\n",
    "plt.show()"
   ]
  },
  {
   "cell_type": "code",
   "execution_count": 11,
   "metadata": {},
   "outputs": [
    {
     "data": {
      "text/plain": [
       "location\n",
       "rural    34\n",
       "urban    65\n",
       "Name: id, dtype: int64"
      ]
     },
     "metadata": {},
     "output_type": "display_data"
    },
    {
     "data": {
      "image/png": "[encoded data removed]",
      "text/plain": [
       "<Figure size 600x400 with 1 Axes>"
      ]
     },
     "metadata": {},
     "output_type": "display_data"
    }
   ],
   "source": [
    "freq = data.groupby(\"location\")['id'].count()\n",
    "freq.plot(kind=\"bar\", legend=None)\n",
    "plt.xlabel(\"Location\")\n",
    "plt.ylabel(\"Freq\")\n",
    "plt.title(\"Urban Rural Split\")\n",
    "\n",
    "display(freq)"
   ]
  },
  {
   "cell_type": "code",
   "execution_count": 12,
   "metadata": {},
   "outputs": [
    {
     "data": {
      "text/plain": [
       "sex\n",
       "female    39\n",
       "male      60\n",
       "Name: id, dtype: int64"
      ]
     },
     "metadata": {},
     "output_type": "display_data"
    },
    {
     "data": {
      "image/png": "[encoded data removed]",
      "text/plain": [
       "<Figure size 600x400 with 1 Axes>"
      ]
     },
     "metadata": {},
     "output_type": "display_data"
    }
   ],
   "source": [
    "freq = data.groupby(\"sex\")['id'].count()\n",
    "freq.plot(kind=\"bar\", legend=None)\n",
    "plt.xlabel(\"Gender\")\n",
    "plt.ylabel(\"Freq)\")\n",
    "plt.title(\"gender split\")\n",
    "\n",
    "display(freq)"
   ]
  },
  {
   "cell_type": "code",
   "execution_count": 13,
   "metadata": {},
   "outputs": [
    {
     "data": {
      "text/plain": [
       "<seaborn.axisgrid.FacetGrid at 0x14d182fa948>"
      ]
     },
     "execution_count": 13,
     "metadata": {},
     "output_type": "execute_result"
    },
    {
     "data": {
      "image/png": "[encoded data removed]",
      "text/plain": [
       "<Figure size 500x500 with 1 Axes>"
      ]
     },
     "metadata": {},
     "output_type": "display_data"
    }
   ],
   "source": [
    "sal = data['salary']\n",
    "sns.displot(sal).set(title ='Salary distribution')\n"
   ]
  },
  {
   "cell_type": "markdown",
   "metadata": {},
   "source": [
    "Are age and income correlated to highly to include on a linear regression"
   ]
  },
  {
   "cell_type": "code",
   "execution_count": 14,
   "metadata": {},
   "outputs": [
    {
     "data": {
      "text/plain": [
       "<seaborn.axisgrid.FacetGrid at 0x14d18384888>"
      ]
     },
     "execution_count": 14,
     "metadata": {},
     "output_type": "execute_result"
    },
    {
     "data": {
      "image/png": "[encoded data removed]",
      "text/plain": [
       "<Figure size 500x500 with 1 Axes>"
      ]
     },
     "metadata": {},
     "output_type": "display_data"
    }
   ],
   "source": [
    "# Show the results of a linear regression within each dataset\n",
    "sns.lmplot(x=\"salary\", y=\"age\", data=data, palette=\"muted\").set(title = 'Correlation of Age and Salary')"
   ]
  },
  {
   "cell_type": "markdown",
   "metadata": {},
   "source": [
    "Nope - that is odd but our data is fake so ¯\\_(ツ)_/¯"
   ]
  },
  {
   "cell_type": "markdown",
   "metadata": {},
   "source": [
    "## Car data"
   ]
  },
  {
   "cell_type": "code",
   "execution_count": 171,
   "metadata": {},
   "outputs": [
    {
     "data": {
      "text/plain": [
       "vehicle_name                       object\n",
       "smallsporty_compactlarge_sedan      int64\n",
       "sports_car                          int64\n",
       "suv                                 int64\n",
       "wagon                               int64\n",
       "minivan                             int64\n",
       "pickup                              int64\n",
       "awd                                 int64\n",
       "rwd                                 int64\n",
       "retail_price                        int64\n",
       "dealer_cost                         int64\n",
       "engine_size_(l)                   float64\n",
       "cyl                                 int64\n",
       "hp                                  int64\n",
       "city_mpg                          float64\n",
       "hwy_mpg                           float64\n",
       "weight                            float64\n",
       "wheel_base                        float64\n",
       "len                               float64\n",
       "width                             float64\n",
       "dtype: object"
      ]
     },
     "execution_count": 171,
     "metadata": {},
     "output_type": "execute_result"
    }
   ],
   "source": [
    "data = pd.read_parquet(\"1-cars.parquet\", index = 0)\n",
    "\n",
    "# ProfileReport(data).to_file(\"cars_report_historical.html\")\n",
    "\n",
    "car_dict = pd.read_csv('2-data.dict.cars.csv')\n",
    "data.dtypes"
   ]
  },
  {
   "cell_type": "code",
   "execution_count": 175,
   "metadata": {},
   "outputs": [],
   "source": [
    "data.rename(columns={\"smallsporty_compactlarge_sedan\": \"sedan\"}, inplace = True)"
   ]
  },
  {
   "cell_type": "markdown",
   "metadata": {},
   "source": [
    "## missingness"
   ]
  },
  {
   "cell_type": "code",
   "execution_count": 172,
   "metadata": {},
   "outputs": [
    {
     "data": {
      "text/plain": [
       "True"
      ]
     },
     "execution_count": 172,
     "metadata": {},
     "output_type": "execute_result"
    }
   ],
   "source": [
    "data.isnull().any().any()"
   ]
  },
  {
   "cell_type": "code",
   "execution_count": 173,
   "metadata": {},
   "outputs": [
    {
     "data": {
      "text/plain": [
       "<AxesSubplot:>"
      ]
     },
     "execution_count": 173,
     "metadata": {},
     "output_type": "execute_result"
    },
    {
     "data": {
      "image/png": "[encoded data removed]",
      "text/plain": [
       "<Figure size 600x400 with 2 Axes>"
      ]
     },
     "metadata": {},
     "output_type": "display_data"
    }
   ],
   "source": [
    "sns.heatmap(data.isnull())"
   ]
  },
  {
   "cell_type": "markdown",
   "metadata": {},
   "source": [
    "inspection of missing data rows"
   ]
  },
  {
   "cell_type": "code",
   "execution_count": 174,
   "metadata": {},
   "outputs": [
    {
     "data": {
      "text/html": [
       "<div>\n",
       "<style scoped>\n",
       "    .dataframe tbody tr th:only-of-type {\n",
       "        vertical-align: middle;\n",
       "    }\n",
       "\n",
       "    .dataframe tbody tr th {\n",
       "        vertical-align: top;\n",
       "    }\n",
       "\n",
       "    .dataframe thead th {\n",
       "        text-align: right;\n",
       "    }\n",
       "</style>\n",
       "<table border=\"1\" class=\"dataframe\">\n",
       "  <thead>\n",
       "    <tr style=\"text-align: right;\">\n",
       "      <th></th>\n",
       "      <th>vehicle_name</th>\n",
       "      <th>smallsporty_compactlarge_sedan</th>\n",
       "      <th>sports_car</th>\n",
       "      <th>suv</th>\n",
       "      <th>wagon</th>\n",
       "      <th>minivan</th>\n",
       "      <th>pickup</th>\n",
       "      <th>awd</th>\n",
       "      <th>rwd</th>\n",
       "      <th>retail_price</th>\n",
       "      <th>dealer_cost</th>\n",
       "      <th>engine_size_(l)</th>\n",
       "      <th>cyl</th>\n",
       "      <th>hp</th>\n",
       "      <th>city_mpg</th>\n",
       "      <th>hwy_mpg</th>\n",
       "      <th>weight</th>\n",
       "      <th>wheel_base</th>\n",
       "      <th>len</th>\n",
       "      <th>width</th>\n",
       "    </tr>\n",
       "  </thead>\n",
       "  <tbody>\n",
       "    <tr>\n",
       "      <th>58</th>\n",
       "      <td>Cadillac Escalade EXT</td>\n",
       "      <td>0</td>\n",
       "      <td>0</td>\n",
       "      <td>0</td>\n",
       "      <td>0</td>\n",
       "      <td>0</td>\n",
       "      <td>1</td>\n",
       "      <td>1</td>\n",
       "      <td>0</td>\n",
       "      <td>52975</td>\n",
       "      <td>48541</td>\n",
       "      <td>6.0</td>\n",
       "      <td>8</td>\n",
       "      <td>345</td>\n",
       "      <td>13.0</td>\n",
       "      <td>17.0</td>\n",
       "      <td>5879.0</td>\n",
       "      <td>130.0</td>\n",
       "      <td>NaN</td>\n",
       "      <td>NaN</td>\n",
       "    </tr>\n",
       "    <tr>\n",
       "      <th>64</th>\n",
       "      <td>Chevrolet Avalanche 1500</td>\n",
       "      <td>0</td>\n",
       "      <td>0</td>\n",
       "      <td>0</td>\n",
       "      <td>0</td>\n",
       "      <td>0</td>\n",
       "      <td>1</td>\n",
       "      <td>1</td>\n",
       "      <td>0</td>\n",
       "      <td>36100</td>\n",
       "      <td>31689</td>\n",
       "      <td>5.3</td>\n",
       "      <td>8</td>\n",
       "      <td>295</td>\n",
       "      <td>14.0</td>\n",
       "      <td>18.0</td>\n",
       "      <td>5678.0</td>\n",
       "      <td>130.0</td>\n",
       "      <td>NaN</td>\n",
       "      <td>NaN</td>\n",
       "    </tr>\n",
       "    <tr>\n",
       "      <th>70</th>\n",
       "      <td>Chevrolet Colorado Z85</td>\n",
       "      <td>0</td>\n",
       "      <td>0</td>\n",
       "      <td>0</td>\n",
       "      <td>0</td>\n",
       "      <td>0</td>\n",
       "      <td>1</td>\n",
       "      <td>1</td>\n",
       "      <td>0</td>\n",
       "      <td>18760</td>\n",
       "      <td>17070</td>\n",
       "      <td>2.8</td>\n",
       "      <td>4</td>\n",
       "      <td>175</td>\n",
       "      <td>18.0</td>\n",
       "      <td>23.0</td>\n",
       "      <td>3623.0</td>\n",
       "      <td>111.0</td>\n",
       "      <td>NaN</td>\n",
       "      <td>NaN</td>\n",
       "    </tr>\n",
       "  </tbody>\n",
       "</table>\n",
       "</div>"
      ],
      "text/plain": [
       "                vehicle_name  smallsporty_compactlarge_sedan  sports_car  suv  \\\n",
       "58     Cadillac Escalade EXT                               0           0    0   \n",
       "64  Chevrolet Avalanche 1500                               0           0    0   \n",
       "70    Chevrolet Colorado Z85                               0           0    0   \n",
       "\n",
       "    wagon  minivan  pickup  awd  rwd  retail_price  dealer_cost  \\\n",
       "58      0        0       1    1    0         52975        48541   \n",
       "64      0        0       1    1    0         36100        31689   \n",
       "70      0        0       1    1    0         18760        17070   \n",
       "\n",
       "    engine_size_(l)  cyl   hp  city_mpg  hwy_mpg  weight  wheel_base  len  \\\n",
       "58              6.0    8  345      13.0     17.0  5879.0       130.0  NaN   \n",
       "64              5.3    8  295      14.0     18.0  5678.0       130.0  NaN   \n",
       "70              2.8    4  175      18.0     23.0  3623.0       111.0  NaN   \n",
       "\n",
       "    width  \n",
       "58    NaN  \n",
       "64    NaN  \n",
       "70    NaN  "
      ]
     },
     "execution_count": 174,
     "metadata": {},
     "output_type": "execute_result"
    }
   ],
   "source": [
    "null_data = data[data.isnull().any(axis=1)]\n",
    "null_data.head(3)"
   ]
  },
  {
   "cell_type": "markdown",
   "metadata": {},
   "source": [
    "in order to see the and count the best aparatus for the encoded columns - melt them then analyze then keep or ammend"
   ]
  },
  {
   "cell_type": "code",
   "execution_count": 176,
   "metadata": {},
   "outputs": [],
   "source": []
  }
 ],
 "metadata": {
  "kernelspec": {
   "display_name": "Python 3",
   "language": "python",
   "name": "python3"
  },
  "language_info": {
   "codemirror_mode": {
    "name": "ipython",
    "version": 3
   },
   "file_extension": ".py",
   "mimetype": "text/x-python",
   "name": "python",
   "nbconvert_exporter": "python",
   "pygments_lexer": "ipython3",
   "version": "3.7.4"
  }
 },
 "nbformat": 4,
 "nbformat_minor": 4
}
